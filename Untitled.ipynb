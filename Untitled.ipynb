{
 "cells": [
  {
   "cell_type": "code",
   "execution_count": 1,
   "id": "aaba3c6d-3e35-49d0-bf51-0c57250b5796",
   "metadata": {},
   "outputs": [
    {
     "name": "stdout",
     "output_type": "stream",
     "text": [
      "2.3.2 1.7.2\n"
     ]
    }
   ],
   "source": [
    "import pandas as pd\n",
    "import sklearn\n",
    "print(pd.__version__, sklearn.__version__)\n"
   ]
  },
  {
   "cell_type": "code",
   "execution_count": 2,
   "id": "d788ab97-d247-4108-8f02-9af32824bc80",
   "metadata": {},
   "outputs": [
    {
     "data": {
      "text/html": [
       "<div>\n",
       "<style scoped>\n",
       "    .dataframe tbody tr th:only-of-type {\n",
       "        vertical-align: middle;\n",
       "    }\n",
       "\n",
       "    .dataframe tbody tr th {\n",
       "        vertical-align: top;\n",
       "    }\n",
       "\n",
       "    .dataframe thead th {\n",
       "        text-align: right;\n",
       "    }\n",
       "</style>\n",
       "<table border=\"1\" class=\"dataframe\">\n",
       "  <thead>\n",
       "    <tr style=\"text-align: right;\">\n",
       "      <th></th>\n",
       "      <th>title</th>\n",
       "      <th>author</th>\n",
       "      <th>genre</th>\n",
       "    </tr>\n",
       "  </thead>\n",
       "  <tbody>\n",
       "    <tr>\n",
       "      <th>0</th>\n",
       "      <td>The Hobbit</td>\n",
       "      <td>J.R.R. Tolkien</td>\n",
       "      <td>Fantasy</td>\n",
       "    </tr>\n",
       "    <tr>\n",
       "      <th>1</th>\n",
       "      <td>The Fellowship of the Ring</td>\n",
       "      <td>J.R.R. Tolkien</td>\n",
       "      <td>Fantasy</td>\n",
       "    </tr>\n",
       "    <tr>\n",
       "      <th>2</th>\n",
       "      <td>The Two Towers</td>\n",
       "      <td>J.R.R. Tolkien</td>\n",
       "      <td>Fantasy</td>\n",
       "    </tr>\n",
       "    <tr>\n",
       "      <th>3</th>\n",
       "      <td>The Return of the King</td>\n",
       "      <td>J.R.R. Tolkien</td>\n",
       "      <td>Fantasy</td>\n",
       "    </tr>\n",
       "    <tr>\n",
       "      <th>4</th>\n",
       "      <td>Harry Potter and the Philosopher's Stone</td>\n",
       "      <td>J.K. Rowling</td>\n",
       "      <td>Fantasy</td>\n",
       "    </tr>\n",
       "  </tbody>\n",
       "</table>\n",
       "</div>"
      ],
      "text/plain": [
       "                                      title          author    genre\n",
       "0                                The Hobbit  J.R.R. Tolkien  Fantasy\n",
       "1                The Fellowship of the Ring  J.R.R. Tolkien  Fantasy\n",
       "2                            The Two Towers  J.R.R. Tolkien  Fantasy\n",
       "3                    The Return of the King  J.R.R. Tolkien  Fantasy\n",
       "4  Harry Potter and the Philosopher's Stone    J.K. Rowling  Fantasy"
      ]
     },
     "execution_count": 2,
     "metadata": {},
     "output_type": "execute_result"
    }
   ],
   "source": [
    "import pandas as pd\n",
    "from sklearn.feature_extraction.text import CountVectorizer\n",
    "from sklearn.metrics.pairwise import cosine_similarity\n",
    "import ipywidgets as widgets\n",
    "from IPython.display import display\n",
    "\n",
    "# Load books.csv\n",
    "books = pd.read_csv(\"books.csv\")\n",
    "\n",
    "# Quick view\n",
    "books.head()\n"
   ]
  },
  {
   "cell_type": "code",
   "execution_count": 3,
   "id": "57e0a703-9e36-419f-95c1-151e14778c88",
   "metadata": {},
   "outputs": [],
   "source": [
    "# Combine relevant columns\n",
    "books['features'] = books['title'] + ' ' + books['author'] + ' ' + books['genre']\n",
    "\n",
    "# Convert text to count matrix\n",
    "count_vec = CountVectorizer()\n",
    "count_matrix = count_vec.fit_transform(books['features'])\n",
    "\n",
    "# Compute cosine similarity\n",
    "cosine_sim = cosine_similarity(count_matrix, count_matrix)\n"
   ]
  },
  {
   "cell_type": "code",
   "execution_count": 4,
   "id": "0d477297-b298-45e5-a976-6d84661ef856",
   "metadata": {},
   "outputs": [],
   "source": [
    "def recommend(book_title, top_n=5):\n",
    "    # Find index of the book\n",
    "    if book_title not in books['title'].values:\n",
    "        return f\"Book '{book_title}' not found in database.\"\n",
    "    \n",
    "    idx = books[books['title'] == book_title].index[0]\n",
    "    \n",
    "    # Get similarity scores\n",
    "    sim_scores = list(enumerate(cosine_sim[idx]))\n",
    "    \n",
    "    # Sort by similarity (descending)\n",
    "    sim_scores = sorted(sim_scores, key=lambda x: x[1], reverse=True)\n",
    "    \n",
    "    # Get top N similar books (exclude itself)\n",
    "    sim_scores = sim_scores[1:top_n+1]\n",
    "    book_indices = [i[0] for i in sim_scores]\n",
    "    \n",
    "    return books.iloc[book_indices][['title','author','genre']]\n"
   ]
  },
  {
   "cell_type": "code",
   "execution_count": 5,
   "id": "8bd3adb9-b0e7-4685-b044-d1afd0983777",
   "metadata": {},
   "outputs": [
    {
     "data": {
      "application/vnd.jupyter.widget-view+json": {
       "model_id": "16e39d04715145f59639c1281adbabee",
       "version_major": 2,
       "version_minor": 0
      },
      "text/plain": [
       "Dropdown(description='Select Book:', layout=Layout(width='60%'), options=('The Hobbit', 'The Fellowship of the…"
      ]
     },
     "metadata": {},
     "output_type": "display_data"
    },
    {
     "data": {
      "application/vnd.jupyter.widget-view+json": {
       "model_id": "dd1ac7e6ce744c3c8e21e51a71ab8329",
       "version_major": 2,
       "version_minor": 0
      },
      "text/plain": [
       "Output()"
      ]
     },
     "metadata": {},
     "output_type": "display_data"
    }
   ],
   "source": [
    "# Dropdown widget with all book titles\n",
    "book_dropdown = widgets.Dropdown(\n",
    "    options=books['title'].tolist(),\n",
    "    description='Select Book:',\n",
    "    layout=widgets.Layout(width='60%')\n",
    ")\n",
    "\n",
    "output = widgets.Output()\n",
    "\n",
    "def on_change(change):\n",
    "    with output:\n",
    "        output.clear_output()\n",
    "        recommended = recommend(change['new'], top_n=5)\n",
    "        display(recommended)\n",
    "\n",
    "book_dropdown.observe(on_change, names='value')\n",
    "display(book_dropdown, output)\n"
   ]
  },
  {
   "cell_type": "code",
   "execution_count": null,
   "id": "b9c953cd-098a-443b-b5f8-da316f817a29",
   "metadata": {},
   "outputs": [],
   "source": []
  }
 ],
 "metadata": {
  "kernelspec": {
   "display_name": "Python 3 (ipykernel)",
   "language": "python",
   "name": "python3"
  },
  "language_info": {
   "codemirror_mode": {
    "name": "ipython",
    "version": 3
   },
   "file_extension": ".py",
   "mimetype": "text/x-python",
   "name": "python",
   "nbconvert_exporter": "python",
   "pygments_lexer": "ipython3",
   "version": "3.12.3"
  }
 },
 "nbformat": 4,
 "nbformat_minor": 5
}
